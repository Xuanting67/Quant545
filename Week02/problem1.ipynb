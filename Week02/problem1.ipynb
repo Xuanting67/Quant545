{
 "cells": [
  {
   "cell_type": "code",
   "execution_count": 21,
   "metadata": {},
   "outputs": [],
   "source": [
    "import pandas as pd\n",
    "import numpy as np\n",
    "import sklearn\n",
    "from scipy.stats import skew, kurtosis\n",
    "from scipy.stats import describe\n",
    "import matplotlib.pyplot as plt"
   ]
  },
  {
   "cell_type": "code",
   "execution_count": 35,
   "metadata": {},
   "outputs": [
    {
     "data": {
      "text/html": [
       "<div>\n",
       "<style scoped>\n",
       "    .dataframe tbody tr th:only-of-type {\n",
       "        vertical-align: middle;\n",
       "    }\n",
       "\n",
       "    .dataframe tbody tr th {\n",
       "        vertical-align: top;\n",
       "    }\n",
       "\n",
       "    .dataframe thead th {\n",
       "        text-align: right;\n",
       "    }\n",
       "</style>\n",
       "<table border=\"1\" class=\"dataframe\">\n",
       "  <thead>\n",
       "    <tr style=\"text-align: right;\">\n",
       "      <th></th>\n",
       "      <th>x</th>\n",
       "      <th>y</th>\n",
       "    </tr>\n",
       "  </thead>\n",
       "  <tbody>\n",
       "    <tr>\n",
       "      <th>0</th>\n",
       "      <td>-1.166289</td>\n",
       "      <td>1.014680</td>\n",
       "    </tr>\n",
       "    <tr>\n",
       "      <th>1</th>\n",
       "      <td>-0.426878</td>\n",
       "      <td>0.262715</td>\n",
       "    </tr>\n",
       "    <tr>\n",
       "      <th>2</th>\n",
       "      <td>-1.477892</td>\n",
       "      <td>-1.044772</td>\n",
       "    </tr>\n",
       "    <tr>\n",
       "      <th>3</th>\n",
       "      <td>3.049119</td>\n",
       "      <td>0.804363</td>\n",
       "    </tr>\n",
       "    <tr>\n",
       "      <th>4</th>\n",
       "      <td>-2.123732</td>\n",
       "      <td>-0.689514</td>\n",
       "    </tr>\n",
       "  </tbody>\n",
       "</table>\n",
       "</div>"
      ],
      "text/plain": [
       "          x         y\n",
       "0 -1.166289  1.014680\n",
       "1 -0.426878  0.262715\n",
       "2 -1.477892 -1.044772\n",
       "3  3.049119  0.804363\n",
       "4 -2.123732 -0.689514"
      ]
     },
     "execution_count": 35,
     "metadata": {},
     "output_type": "execute_result"
    }
   ],
   "source": [
    "data = pd.read_csv('problem1.csv')\n",
    "data.head()"
   ]
  },
  {
   "cell_type": "code",
   "execution_count": 3,
   "metadata": {},
   "outputs": [
    {
     "name": "stdout",
     "output_type": "stream",
     "text": [
      "Skewness: [0.2353731  0.28977669]\n",
      "Kurtosis: [-0.25170516 -0.1495681 ]\n"
     ]
    }
   ],
   "source": [
    "#using original data to calculate skewness and kurtosis\n",
    "# Calculate the skewness\n",
    "skewness = skew(data)\n",
    "print(\"Skewness:\", skewness)\n",
    "# Calculate the kurtosis\n",
    "kurtosis = kurtosis(data)\n",
    "print(\"Kurtosis:\", kurtosis)"
   ]
  },
  {
   "cell_type": "code",
   "execution_count": 36,
   "metadata": {},
   "outputs": [
    {
     "name": "stdout",
     "output_type": "stream",
     "text": [
      "sample Skewness: [0.02695296 0.50114185]\n",
      "sample Kurtosis: [-0.58447384 -0.26514165]\n"
     ]
    }
   ],
   "source": [
    "#extract 30 samples from the original dataset\n",
    "from scipy.stats import skew, kurtosis\n",
    "data_sample = data.sample(n=30)\n",
    "data_sample\n",
    "# calculate skewness and kurtosis\n",
    "skewness = skew(data_sample)\n",
    "print(\"sample Skewness:\", skewness)\n",
    "# Calculate the kurtosis\n",
    "kurtosis = kurtosis(data_sample)\n",
    "print(\"sample Kurtosis:\", kurtosis)"
   ]
  },
  {
   "cell_type": "code",
   "execution_count": 17,
   "metadata": {},
   "outputs": [
    {
     "data": {
      "text/html": [
       "<div>\n",
       "<style scoped>\n",
       "    .dataframe tbody tr th:only-of-type {\n",
       "        vertical-align: middle;\n",
       "    }\n",
       "\n",
       "    .dataframe tbody tr th {\n",
       "        vertical-align: top;\n",
       "    }\n",
       "\n",
       "    .dataframe thead th {\n",
       "        text-align: right;\n",
       "    }\n",
       "</style>\n",
       "<table border=\"1\" class=\"dataframe\">\n",
       "  <thead>\n",
       "    <tr style=\"text-align: right;\">\n",
       "      <th></th>\n",
       "      <th>0</th>\n",
       "      <th>1</th>\n",
       "    </tr>\n",
       "  </thead>\n",
       "  <tbody>\n",
       "    <tr>\n",
       "      <th>0</th>\n",
       "      <td>0.294803</td>\n",
       "      <td>0.633410</td>\n",
       "    </tr>\n",
       "    <tr>\n",
       "      <th>1</th>\n",
       "      <td>0.418500</td>\n",
       "      <td>0.468261</td>\n",
       "    </tr>\n",
       "    <tr>\n",
       "      <th>2</th>\n",
       "      <td>0.242675</td>\n",
       "      <td>0.181107</td>\n",
       "    </tr>\n",
       "    <tr>\n",
       "      <th>3</th>\n",
       "      <td>1.000000</td>\n",
       "      <td>0.587220</td>\n",
       "    </tr>\n",
       "    <tr>\n",
       "      <th>4</th>\n",
       "      <td>0.134632</td>\n",
       "      <td>0.259130</td>\n",
       "    </tr>\n",
       "  </tbody>\n",
       "</table>\n",
       "</div>"
      ],
      "text/plain": [
       "          0         1\n",
       "0  0.294803  0.633410\n",
       "1  0.418500  0.468261\n",
       "2  0.242675  0.181107\n",
       "3  1.000000  0.587220\n",
       "4  0.134632  0.259130"
      ]
     },
     "execution_count": 17,
     "metadata": {},
     "output_type": "execute_result"
    }
   ],
   "source": [
    "#normalize data, and calculate skewness and kurtosis\n",
    "from sklearn.preprocessing import MinMaxScaler\n",
    "scaler = MinMaxScaler()\n",
    "scaler.fit(data)\n",
    "# Transform the data\n",
    "normalized_df = scaler.transform(data)\n",
    "df_nor = pd.DataFrame(normalized_df)\n",
    "df_nor.head()"
   ]
  },
  {
   "cell_type": "code",
   "execution_count": 37,
   "metadata": {},
   "outputs": [
    {
     "name": "stdout",
     "output_type": "stream",
     "text": [
      "Skewness for normalized data: [0.2353731  0.28977669]\n",
      "Kurtosis for normalized data: [-0.25170516 -0.1495681 ]\n"
     ]
    }
   ],
   "source": [
    "# Calculate the skewness\n",
    "\n",
    "from scipy.stats import skew, kurtosis\n",
    "skewness_nor = skew(df_nor)\n",
    "print(\"Skewness for normalized data:\", skewness_nor)\n",
    "# Calculate the kurtosis\n",
    "kurtosis_nor = kurtosis(df_nor)\n",
    "print(\"Kurtosis for normalized data:\", kurtosis_nor)"
   ]
  },
  {
   "cell_type": "code",
   "execution_count": 40,
   "metadata": {},
   "outputs": [],
   "source": [
    "#write me own function\n",
    "def calculate_skewness(data):\n",
    "    n = len(data)\n",
    "    mean = sum(data) / n\n",
    "    std_dev = (sum((x - mean)**2 for x in data) / n)**0.5\n",
    "    skewness = (sum((x - mean)**3 for x in data) / (n * std_dev**3))\n",
    "    return skewness\n"
   ]
  },
  {
   "cell_type": "code",
   "execution_count": 46,
   "metadata": {},
   "outputs": [
    {
     "name": "stdout",
     "output_type": "stream",
     "text": [
      "skewness_original:  0.23537310497701913\n",
      "skewness_sample:  0.026952963906242654\n"
     ]
    }
   ],
   "source": [
    "#skewness for original data\n",
    "skewness_original = calculate_skewness(data['x'])\n",
    "print(\"skewness_original: \",skewness_original)\n",
    "skewness_sample = calculate_skewness(data_sample['x'])\n",
    "skewness_sample\n",
    "print(\"skewness_sample: \",skewness_sample)\n"
   ]
  }
 ],
 "metadata": {
  "kernelspec": {
   "display_name": "Python 3",
   "language": "python",
   "name": "python3"
  },
  "language_info": {
   "codemirror_mode": {
    "name": "ipython",
    "version": 3
   },
   "file_extension": ".py",
   "mimetype": "text/x-python",
   "name": "python",
   "nbconvert_exporter": "python",
   "pygments_lexer": "ipython3",
   "version": "3.9.1"
  },
  "orig_nbformat": 4,
  "vscode": {
   "interpreter": {
    "hash": "5ca7e4354405a07b50f254c6d821ff5aba542722fb1aeca53cc0df67105c7ac0"
   }
  }
 },
 "nbformat": 4,
 "nbformat_minor": 2
}
